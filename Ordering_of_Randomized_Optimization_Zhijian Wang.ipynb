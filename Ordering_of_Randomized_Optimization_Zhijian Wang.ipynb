{
  "nbformat": 4,
  "nbformat_minor": 0,
  "metadata": {
    "colab": {
      "name": "Copy of Ordering of Randomized Optimization.ipynb",
      "provenance": [],
      "collapsed_sections": []
    },
    "kernelspec": {
      "name": "python3",
      "display_name": "Python 3"
    }
  },
  "cells": [
    {
      "cell_type": "markdown",
      "metadata": {
        "id": "SUfiwv22qUma"
      },
      "source": [
        "# Random or not so random?\n",
        "\n",
        "In the project, you will study the optimization algorithms related to the randomization. For a group of random algorithms, the randomness could be improved through certain strategy. The reference for this project comes from https://arxiv.org/pdf/1202.4184.pdf . \n",
        "\n",
        "The mathematical problem discussed in the above paper is quite simple, however it provides some insights for data science, especially for linear problems. The conjecture in the paper is still an open problem in general."
      ]
    },
    {
      "cell_type": "markdown",
      "metadata": {
        "id": "_LtDgJBs0C9d"
      },
      "source": [
        "## First things first\n",
        "We review the gradient descent method learned in last quarter, for minimization of $f(x)$, the Gradient Descent (GD) iteration is \n",
        "$$x_{k+1} = x_k - \\alpha_k \\nabla f(x_k)$$\n",
        "with $\\alpha_k$ the chosen step length, usually a backtracking type loop is associated for the choice of $\\alpha_k$. \n",
        "\n"
      ]
    },
    {
      "cell_type": "markdown",
      "metadata": {
        "id": "9f2jq6a-0qhc"
      },
      "source": [
        "## Incremental GD\n",
        "There are some variants of GD, like coordinate gradient descent or the stochastic gradient descent. Here we focus on the IGD: incremental GD, it is similar to the coordinate GD, which is dealing with something local and then deal with something else later. \n",
        "\n",
        "Suppose the problem is:\n",
        "$$\\min_x f(x) := \\sum_{i=1}^m f_i(x)$$\n",
        "the objective function is the summation of a few other objective functions. This is quite normal in real life applications. Especially the statistics and imaging science. \n",
        "\n",
        "The IGD is dealing with one of the $f_i$ with GD and then deal with others in similar manner. Suppose we have fixed an ordering $i_0, i_1, i_2, \\dots, i_k,\\dots$, this ordering is infinite or finite, the numbers are just sampled from $\\{ 1,2,\\dots, m\\}$, basically telling you an order of $f_i$ to deal with. During each iteration, we update $x_k$ by\n",
        "\n",
        "$$x_{k+1} = x_{k} - \\gamma_k \\nabla f_{i_k}(x_{k})$$\n",
        "where $\\gamma_k$ is the step length.  \n",
        "\n",
        "When the ordering is sampled uniformly from $\\{ 1,2,\\dots, m\\}$, then this method becomes **Stochastic GD**. But the ordering could be other kind or distribution, even deterministic, we will mainly focus on select a better strategy for the ordering."
      ]
    },
    {
      "cell_type": "markdown",
      "metadata": {
        "id": "-b9lGznZDwSD"
      },
      "source": [
        "## Implementation Task 1\n",
        "\n",
        "This task comes from the Section 2.1 of the reference paper.\n",
        "\n",
        "We implement the 1D example of least square problem for the IGD. Then problem is given by \n",
        "\n",
        "$$\\min_x \\frac{1}{2}\\sum_{i=1}^n (x- y_i)^2$$\n",
        "where $y_i$ is a sequence of scalars sampled with certain given mean value $\\mu$ and variance $\\sigma^2$. Following the above method, the iteration will be\n",
        "$$x_{k+1} =x_k -\\gamma_k (x_{k} - y_{i_k})$$\n",
        "where $y_{i_k}$ comes from the selected ordering.  \n",
        "\n",
        "In the first task, you need to implement the following functions. "
      ]
    },
    {
      "cell_type": "code",
      "metadata": {
        "id": "RvnjT762FadE"
      },
      "source": [
        "# generate a vector of random numbers which obeys the given distribution.\n",
        "#\n",
        "# n: length of the vector\n",
        "# mu: mean value\n",
        "# sigma: standard deviation.\n",
        "# dist: choices for the distribution, you need to implement at least normal \n",
        "#       distribution and uniform distribution.\n",
        "#\n",
        "# For normal distribution, you can use ``numpy.random.normal`` to generate.\n",
        "# For uniform distribution, the interval to sample will be [mu - sigma/sqrt(3), mu + sigma/sqrt(3)].\n",
        "\n",
        "import numpy as np\n",
        "import math\n",
        "from matplotlib import pyplot as plt\n",
        "import random\n",
        "def generate_random_numbers(n, mu, sigma, dist=\"normal\"):\n",
        "  # write your code here.\n",
        "  if dist == \"normal\":\n",
        "    return np.random.normal(mu, sigma, n)\n",
        "  elif dist == \"uniform\":\n",
        "      # write your code here.\n",
        "    return np.random.uniform(mu - sigma/math.sqrt(3), mu + sigma/math.sqrt(3), n)\n",
        "  else:\n",
        "    raise Exception(\"The distribution {unknown_dist} is not implemented\".format(unknown_dist=dist))\n",
        "      \n",
        "        \n",
        "# test your code:\n",
        "y_test_normal = generate_random_numbers(5, 0, 0.1, \"normal\")\n",
        "y_test_uniform = generate_random_numbers(5, 0, 1, \"uniform\")"
      ],
      "execution_count": 19,
      "outputs": []
    },
    {
      "cell_type": "markdown",
      "metadata": {
        "id": "MdytKKS9Iyd6"
      },
      "source": [
        "### Settings of the minimization problems\n",
        "Now you will setup the problem with a sampling of $y$ vector with the following two different settings:\n",
        "```\n",
        "n, mu, sigma, dist = 105, 0.5, 1.0, \"normal\"\n",
        "```\n",
        "and \n",
        "```\n",
        "n, mu, sigma, dist = 105, 0.5, 1.0, \"uniform\"\n",
        "```\n",
        "Your initial guess will be $x_0 = 0$ for both cases. The step length is taking the diminishing factor $\\gamma_k = \\frac{1}{k+1}$."
      ]
    },
    {
      "cell_type": "code",
      "metadata": {
        "id": "dZQTddxHPIBB"
      },
      "source": [
        "y1 = generate_random_numbers(105, 0.5, 1.0, \"normal\")\n",
        "y2 = generate_random_numbers(105, 0.5, 1.0, \"uniform\")"
      ],
      "execution_count": 20,
      "outputs": []
    },
    {
      "cell_type": "markdown",
      "metadata": {
        "id": "y2r5QCRCKfql"
      },
      "source": [
        "### Two orderings to experiment with\n",
        "\n",
        "1. Random ordering with replacement\n",
        "In this case, we do not choose the fixed ordering, we sample a number in $\\{1,2,\\dots, n \\}$ each time and follow the iteration.\n",
        "\n",
        "2. Random ordering without replacement\n",
        "In this case, we do not choose the fixed ordering, we sample an ordering without replacement from $\\{1,2,\\dots, n\\}$ and then follow the iteration."
      ]
    },
    {
      "cell_type": "code",
      "metadata": {
        "id": "G-BDbTsMPT7I"
      },
      "source": [
        "# IGD, the ordering is permitted to have replacement. \n",
        "#\n",
        "#\n",
        "def generate_string_function(y):\n",
        "  n = len(y)\n",
        "  string_function = f\"0.5 * (x - {y[0]}) ** 2\"\n",
        "  for i in range(n-1):\n",
        "    string_function += f\" + 0.5 * (x - {y[i+1]}) ** 2\" \n",
        "  return string_function\n",
        "def IGD_wr_task1(y):\n",
        "  n = len(y)\n",
        "  ordering = np.random.choice(n, n, replace=True)\n",
        "  # implement the algorithm's iteration of IGD. Your result should return the the final xk\n",
        "  # at the last iteration and also the history of objective function at each xk.\n",
        "  x = 0\n",
        "  history_point = []\n",
        "  string_function = generate_string_function(y)\n",
        "  for i in range(n):\n",
        "    history_point.append((x, eval(string_function)))\n",
        "    gradient = lambda x: (x - y[ordering[i]])\n",
        "    x = x - 1/(i + 1) * gradient(x)\n",
        "  history_point.append((x, eval(string_function)))\n",
        "  return x, history_point\n",
        "    \n",
        "\n",
        "# IGD, the ordering is not permitted to have replacement.\n",
        "#\n",
        "#\n",
        "def IGD_wo_task1(y):\n",
        "  n = len(y)\n",
        "  ordering = np.random.choice(n, n, replace=False)\n",
        "  # implement the algorithm's iteration of IGD. Your result should return the the final xk\n",
        "  # at the last iteration and also the history of objective function at each xk.\n",
        "  x = 0\n",
        "  history_point = []\n",
        "  string_function = generate_string_function(y)\n",
        "  for i in range(n):\n",
        "    history_point.append((x, eval(string_function)))\n",
        "    gradient = lambda x: (x - y[ordering[i]])\n",
        "    x = x - 1/(i + 1) * gradient(x)\n",
        "  history_point.append((x, eval(string_function)))\n",
        "  return x, history_point"
      ],
      "execution_count": 21,
      "outputs": []
    },
    {
      "cell_type": "code",
      "metadata": {
        "id": "1rSXB1wVuvIh"
      },
      "source": [
        "wr_x_last1, wr_history1 = IGD_wr_task1(y1)\n",
        "wo_x_last1, wo_history1 = IGD_wo_task1(y1)\n",
        "wr_x_last2, wr_history2 = IGD_wr_task1(y2)\n",
        "wo_x_last2, wo_history2 = IGD_wo_task1(y2)"
      ],
      "execution_count": 22,
      "outputs": []
    },
    {
      "cell_type": "markdown",
      "metadata": {
        "id": "06UQih7YWvN8"
      },
      "source": [
        "### Your results to present\n",
        "Show your results by plotting two figures. For each cases of the above two settings, you need to plot the histories (``IGD_wr_task1`` and ``IGD_wo_task1``) of objective functions in the same figure. \n",
        "\n",
        "Conclude which strategy is better from the results. \n",
        "\n",
        "Briefly prove the ``IGD_wo_task1`` must converge to the true solution (mean value of ``y``). You can calculate first a few values of $x_k$ by hand to see why."
      ]
    },
    {
      "cell_type": "code",
      "metadata": {
        "colab": {
          "base_uri": "https://localhost:8080/",
          "height": 606
        },
        "id": "ZNuLS4DHG_vw",
        "outputId": "314c032d-fa80-4e53-9421-47630ef2f835"
      },
      "source": [
        "print(\"Here is the Plot\")\n",
        "wr_y_value = [e[1] for e in wr_history1]\n",
        "wo_y_value = [e[1] for e in wo_history1]\n",
        "plt.xlabel(\"Average Pulse\")\n",
        "plt.plot(wo_y_value, label = \"IGD_wo_task1_normal\")\n",
        "plt.plot(wr_y_value, label = \"IGD_wr_task1_normal\")\n",
        "plt.xlabel(\"Iteration\")\n",
        "plt.ylabel(\"Y\")\n",
        "plt.title(\"Obj_Normal_Distribution\")\n",
        "plt.legend()\n",
        "plt.show()\n",
        "\n",
        "wr_y_value = [e[1] for e in wr_history2]\n",
        "wo_y_value = [e[1] for e in wo_history2]\n",
        "plt.xlabel(\"Average Pulse\")\n",
        "plt.plot(wo_y_value, label = \"IGD_wo_task1_uniform\")\n",
        "plt.plot(wr_y_value, label = \"IGD_wr_task1_uniform\")\n",
        "plt.xlabel(\"Iteration\")\n",
        "plt.ylabel(\"Y\")\n",
        "plt.title(\"Obj_Uniform_Distribution\")\n",
        "plt.legend()\n",
        "plt.show()\n",
        "print(\"WO version is better\")\n",
        "\n"
      ],
      "execution_count": 23,
      "outputs": [
        {
          "output_type": "stream",
          "name": "stdout",
          "text": [
            "Here is the Plot\n"
          ]
        },
        {
          "output_type": "display_data",
          "data": {
            "image/png": "[encoded data removed]",
            "text/plain": [
              "<Figure size 432x288 with 1 Axes>"
            ]
          },
          "metadata": {
            "needs_background": "light"
          }
        },
        {
          "output_type": "display_data",
          "data": {
            "image/png": "[encoded data removed]",
            "text/plain": [
              "<Figure size 432x288 with 1 Axes>"
            ]
          },
          "metadata": {
            "needs_background": "light"
          }
        },
        {
          "output_type": "stream",
          "name": "stdout",
          "text": [
            "WO version is better\n"
          ]
        }
      ]
    },
    {
      "cell_type": "markdown",
      "metadata": {
        "id": "8AGQA96wuTix"
      },
      "source": [
        "## Proof \n",
        "\n",
        "This actually can be proved by induction\n",
        "\n",
        "Base case: 0 - (0 - a) = a, if one value is a, its means is also a, works\n",
        "\n",
        "Induction Steps, suppose the mean of the first k value is b, $$x_k = b$$ the new value is c, then $$x_(k+1) = x_k - \\frac{1}{k+1}(x_k - c) = \\frac{k}{k+1}x_k + \\frac{1}{k+1}c = \\frac{k}{k+1}b + \\frac{1}{k+1}c$$\n",
        "\n",
        "This value matches the mean value of the k+1 values."
      ]
    },
    {
      "cell_type": "markdown",
      "metadata": {
        "id": "QdgVbXHHXe8-"
      },
      "source": [
        "## Implementation Task 2\n",
        "\n",
        "This task comes from the Section 2.1 of the reference paper as well. \n",
        "\n",
        "Instead of the problem in Task 1, we consider another problem, which is quite simple.\n",
        "\n",
        "$$\\min_x \\frac{1}{2}\\sum_{i=1}^n \\beta_i (x - y)^2$$\n",
        "here $\\beta_i$ are positive weights, $y$ is a scalar. Clearly the minimum is at $x = y$. We try to use the IGD to solve the problem. \n",
        "\n",
        "$$x_{k+1} = x_k - \\gamma_k \\beta_{i_k} (x_k - y)$$\n",
        "\n",
        "where $\\gamma_k\\equiv \\gamma = 0.95 \\min \\beta_i^{-1}$. For simplicity, the $\\beta_i$ are sampled uniformly between $[1,2]$. Your task2 is the same as the task1,  use two kinds of ordering to solve the problem and compare the results through figures."
      ]
    },
    {
      "cell_type": "code",
      "metadata": {
        "id": "MGc2gHijps0F"
      },
      "source": [
        "# IGD, the ordering is permitted to have replacement. \n",
        "#\n",
        "#\n",
        "def generate_string_function(y):\n",
        "    n = 200\n",
        "    beta = np.random.uniform(1.0, 2.0, n)\n",
        "    string_function = f\"0.5 * {beta[0]} * (x -  {y}) ** 2\"\n",
        "    for i in range(n-1):\n",
        "      string_function += f\" + 0.5 * {beta[i+1]} * (x - {y}) ** 2\" \n",
        "    return string_function, beta\n",
        "\n",
        "def IGD_wr_task2(y):\n",
        "    n = 200\n",
        "    ordering = np.random.choice(n, n, replace=True)\n",
        "    # implement the algorithm's iteration of IGD. Your result should return the the final xk\n",
        "    # at the last iteration and also the history of objective function at each xk.\n",
        "    x = 0\n",
        "    history_point = []\n",
        "    string_function, beta = generate_string_function(y)\n",
        "    min_beta = max(beta)\n",
        "    min_beta = min_beta ** (-1)\n",
        "    for i in range(n):\n",
        "      history_point.append((x, eval(string_function)))\n",
        "      gradient = lambda x: beta[ordering[i]] * (x - y)\n",
        "      x = x - 0.95 * min_beta * gradient(x)\n",
        "    history_point.append((x, eval(string_function)))\n",
        "    return x, history_point\n",
        "\n",
        "\n",
        "# IGD, the ordering is not permitted to have replacement.\n",
        "#\n",
        "#\n",
        "def IGD_wo_task2(y):\n",
        "    n = 200\n",
        "    ordering = np.random.choice(n, n, replace=False)\n",
        "    # implement the algorithm's iteration of IGD. Your result should return the the final xk\n",
        "    # at the last iteration and also the history of objective function at each xk.\n",
        "    x = 0\n",
        "    history_point = []\n",
        "    string_function, beta = generate_string_function(y)\n",
        "    min_beta = max(beta)\n",
        "    min_beta = min_beta ** (-1)\n",
        "    for i in range(n):\n",
        "      history_point.append((x, eval(string_function)))\n",
        "      gradient = lambda x: beta[ordering[i]] * (x - y)\n",
        "      x = x - 0.95 * min_beta * gradient(x)\n",
        "    history_point.append((x, eval(string_function)))\n",
        "    return x, history_point"
      ],
      "execution_count": 24,
      "outputs": []
    },
    {
      "cell_type": "code",
      "metadata": {
        "id": "O5wcTpXdNJQh"
      },
      "source": [
        "y_uniform = np.random.uniform(1, 15,1)[0]\n",
        "y_normal = np.random.normal(15,1,1)[0]\n",
        "wr_x_last3, wr_history3 = IGD_wr_task2(y_uniform)\n",
        "wo_x_last3, wo_history3 = IGD_wo_task2(y_uniform)\n",
        "wr_x_last4, wr_history4 = IGD_wr_task2(y_normal)\n",
        "wo_x_last4, wo_history4 = IGD_wo_task2(y_normal)\n"
      ],
      "execution_count": 25,
      "outputs": []
    },
    {
      "cell_type": "markdown",
      "metadata": {
        "id": "UET_B4Usqy7e"
      },
      "source": [
        "### Your results to present\n",
        "Show your results by plotting two figures. For each cases of the above two settings, you need to plot the histories (``IGD_wr_task2`` and ``IGD_wo_task2``) of objective functions in the same figure. \n",
        "\n",
        "Conclude which strategy is better from the results. "
      ]
    },
    {
      "cell_type": "code",
      "metadata": {
        "colab": {
          "base_uri": "https://localhost:8080/",
          "height": 590
        },
        "id": "MjRvusOeNCje",
        "outputId": "e955fc9a-d1c9-4fa9-ba24-2dbd77d25b4a"
      },
      "source": [
        "print(\"Here is the Plot\")\n",
        "wr_y_value = [e[1] for e in wr_history3]\n",
        "wo_y_value = [e[1] for e in wo_history3]\n",
        "plt.xlabel(\"Average Pulse\")\n",
        "plt.plot(wo_y_value, label = \"IGD_wo_task2\")\n",
        "plt.plot(wr_y_value, label = \"IGD_wr_task2\")\n",
        "plt.xlabel(\"Iteration\")\n",
        "plt.ylabel(\"Y\")\n",
        "plt.title(\"Uniform_Distribution\")\n",
        "plt.legend()\n",
        "plt.show()\n",
        "\n",
        "\n",
        "wr_y_value = [e[1] for e in wr_history3]\n",
        "wo_y_value = [e[1] for e in wo_history3]\n",
        "plt.xlabel(\"Average Pulse\")\n",
        "plt.plot(wo_y_value, label = \"IGD_wo_task2\")\n",
        "plt.plot(wr_y_value, label = \"IGD_wr_task2\")\n",
        "plt.xlabel(\"Iteration\")\n",
        "plt.ylabel(\"Y\")\n",
        "plt.title(\"Normal_Distribution\")\n",
        "plt.legend()\n",
        "plt.show()"
      ],
      "execution_count": 26,
      "outputs": [
        {
          "output_type": "stream",
          "name": "stdout",
          "text": [
            "Here is the Plot\n"
          ]
        },
        {
          "output_type": "display_data",
          "data": {
            "image/png": "[encoded data removed]",
            "text/plain": [
              "<Figure size 432x288 with 1 Axes>"
            ]
          },
          "metadata": {
            "needs_background": "light"
          }
        },
        {
          "output_type": "display_data",
          "data": {
            "image/png": "[encoded data removed]",
            "text/plain": [
              "<Figure size 432x288 with 1 Axes>"
            ]
          },
          "metadata": {
            "needs_background": "light"
          }
        }
      ]
    },
    {
      "cell_type": "markdown",
      "metadata": {
        "id": "4FZfrQ0wrNvH"
      },
      "source": [
        "## Implementation Task 3\n",
        "\n",
        "Now instead of 1D problem considered in above two tasks, we will consider the general case in higher dimensions, we study the least square problem to find solution of \n",
        "$$Ax = y$$\n",
        "where $A$ is an $m\\times n$ matrix and $x$ is a vector in $\\mathbb{R}^n$. In most cases, $m \\ge n$ which means the measurement is redundant for this linear model.  We denote the $i$th column $A^T$ as $a_i$ (namely the $i$th row of $A$ transposed), then we are minimizing\n",
        "\n",
        "$$\\min_x \\sum_{i=1}^m (a_i^T x - y_i)^2$$\n",
        "each $a_i\\in\\mathbb{R}^n$. \n",
        "\n",
        "And using IGD to minimize above problem with certain ordering. The step size $\\gamma$ is  taken as a fixed constant, say $10^{-3}$, which is a common value for GD. \n",
        "\n",
        "Each iteration will be \n",
        "\n",
        "$$x_{k+1} = x_k - \\gamma a_{i_k} (a_{i_k}^T x_{k} - y_{i_k})$$\n",
        "\n",
        "Your initial guess is still all zeros vector. \n"
      ]
    },
    {
      "cell_type": "markdown",
      "metadata": {
        "id": "jevXn5siy2lq"
      },
      "source": [
        "### Generation of $y$\n",
        "The $y$ vector is generated by taking the following form\n",
        "$$y_i = a_i^T x^{\\ast} + w_i$$\n",
        "where $w_i$ obeys normal distribution of zero mean and variance of $\\rho^2$, here $\\rho = 10^{-2}$. "
      ]
    },
    {
      "cell_type": "code",
      "metadata": {
        "id": "m4dVvD5czPTP"
      },
      "source": [
        "# generation of exact solution and data y and matrix A.\n",
        "\n",
        "def generate_problem_task3(m, n, rho):\n",
        "  A = np.random.normal(0., 1.0, (m, n))\n",
        "  x = np.random.random(n) # uniform in (0,1)\n",
        "  w = np.random.normal(0., rho, m)\n",
        "  y = A@x + w\n",
        "  return A, x, y"
      ],
      "execution_count": 27,
      "outputs": []
    },
    {
      "cell_type": "code",
      "metadata": {
        "id": "xit131efzd09"
      },
      "source": [
        "# We generate the problem with 200x100 matrix. rho as 0.01.\n",
        "#\n",
        "A, xstar, y = generate_problem_task3(200, 100, 0.01)\n"
      ],
      "execution_count": 28,
      "outputs": []
    },
    {
      "cell_type": "code",
      "metadata": {
        "id": "JmrxUfiHCacQ"
      },
      "source": [
        "# In these two functions, we could only focus on the first n steps and try to make comparisons on these data only.\n",
        "# In practice, it requires more iterations to converge, due to the matrix might not be easy to deal with.\n",
        "# You can put the ordering loop into a naive loop: namely, we simply perform the IGD code several rounds.\n",
        "#\n",
        "#\n",
        "#\n",
        "# IGD, the ordering is permitted to have replacement. \n",
        "#\n",
        "#\n",
        "def calculate(y, A, x):\n",
        "  m, n = np.shape(A)\n",
        "  string_function = 0\n",
        "  for i in range(m):\n",
        "    ai = A.T[:,i].reshape((1,n))\n",
        "    string_function += (np.matmul(ai, x)[0,0] - y[i]) ** 2 \n",
        "  return string_function\n",
        "def IGD_wr_task3(y, A):\n",
        "  m, n = np.shape(A)\n",
        "  ordering = np.random.choice(m, m, replace=True)\n",
        "  # implement the algorithm's iteration of IGD. Your result should return the the final xk\n",
        "  # at the last iteration and also the history of objective function at each xk.\n",
        "  x = np.zeros((n,1))\n",
        "  history_point = []\n",
        "  for i in range(m):\n",
        "    history_point.append((x,calculate(y, A, x)))\n",
        "    aik = A.T[:,ordering[i]].reshape((n,1))\n",
        "    gradient = lambda x: aik * (np.matmul(aik.T,x)[0,0] - y[ordering[i]])\n",
        "    x = x - 10 ** (-3) * gradient(x)\n",
        "  return x, history_point\n",
        "\n",
        "\n",
        "# IGD, the ordering is not permitted to have replacement.\n",
        "#\n",
        "#\n",
        "def IGD_wo_task3(y, A):\n",
        "  # implement the algorithm's iteration of IGD. Your result should return the the final xk\n",
        "  # at the last iteration and also the history of objective function at each xk.\n",
        "  m, n = np.shape(A)\n",
        "  ordering = np.random.choice(m, m, replace=True)\n",
        "  # implement the algorithm's iteration of IGD. Your result should return the the final xk\n",
        "  # at the last iteration and also the history of objective function at each xk.\n",
        "  x = np.zeros((n,1))\n",
        "  history_point = []\n",
        "  for i in range(m):\n",
        "    history_point.append((x,calculate(y, A, x)))\n",
        "    aik = A.T[:,ordering[i]].reshape((n,1))\n",
        "    gradient = lambda x: aik * (np.matmul(aik.T,x)[0,0] - y[ordering[i]])\n",
        "    x = x - 10 ** (-3) * gradient(x)\n",
        "  return x, history_point"
      ],
      "execution_count": 29,
      "outputs": []
    },
    {
      "cell_type": "markdown",
      "metadata": {
        "id": "CJ9-S1GZFiVJ"
      },
      "source": [
        "### Your results to present\n",
        "Show your results by plotting two figures. For each cases of the above two settings, you need to plot the histories (``IGD_wr_task3`` and ``IGD_wo_task3``) of objective functions in the same figure.  \n",
        "\n",
        "Then change your code to plot the histories of $\\|x_k - x^{\\ast }\\|$ and compare the results about the convergences.\n",
        "\n",
        "Conclude which strategy is better from the results. "
      ]
    },
    {
      "cell_type": "code",
      "metadata": {
        "id": "9BW0ja5czk8x"
      },
      "source": [
        "wr_x_last3, wr_history3 = IGD_wr_task3(y, A)\n",
        "wo_x_last3, wo_history3 = IGD_wo_task3(y, A)"
      ],
      "execution_count": 30,
      "outputs": []
    },
    {
      "cell_type": "code",
      "metadata": {
        "colab": {
          "base_uri": "https://localhost:8080/",
          "height": 312
        },
        "id": "Pje-oLTw0D58",
        "outputId": "76a241e5-f523-482e-f606-b7293b1efb28"
      },
      "source": [
        "print(\"Here is the Plot\")\n",
        "wr_y_value = [e[1] for e in wr_history3]\n",
        "wo_y_value = [e[1] for e in wo_history3]\n",
        "plt.xlabel(\"Average Pulse\")\n",
        "plt.plot(wo_y_value, label = \"IGD_wo_task1_normal\")\n",
        "plt.plot(wr_y_value, label = \"IGD_wr_task1_normal\")\n",
        "plt.xlabel(\"Iteration\")\n",
        "plt.ylabel(\"Y\")\n",
        "plt.title(\"Normal_Distribution\")\n",
        "plt.legend()\n",
        "plt.show()\n"
      ],
      "execution_count": 31,
      "outputs": [
        {
          "output_type": "stream",
          "name": "stdout",
          "text": [
            "Here is the Plot\n"
          ]
        },
        {
          "output_type": "display_data",
          "data": {
            "image/png": "[encoded data removed]",
            "text/plain": [
              "<Figure size 432x288 with 1 Axes>"
            ]
          },
          "metadata": {
            "needs_background": "light"
          }
        }
      ]
    },
    {
      "cell_type": "code",
      "metadata": {
        "id": "8FJt-taDABQw"
      },
      "source": [
        ""
      ],
      "execution_count": 31,
      "outputs": []
    }
  ]
}